{
  "cells": [
    {
      "cell_type": "markdown",
      "id": "13ad028b-72b7-43ed-aa78-96fd4e518040",
      "metadata": {
        "id": "13ad028b-72b7-43ed-aa78-96fd4e518040"
      },
      "source": [
        "# Assignment: Data Wrangling\n",
        "### `! git clone https://github.com/ds4e/wrangling`\n",
        "### Do Q1 and Q2, and either Q3 or Q4, for a total of 3 questions."
      ]
    },
    {
      "cell_type": "markdown",
      "id": "da879ea7-8aac-48a3-b6c2-daea56d2e072",
      "metadata": {
        "id": "da879ea7-8aac-48a3-b6c2-daea56d2e072"
      },
      "source": [
        "**Q1.** This question provides some practice cleaning variables which have common problems.\n",
        "1. Numeric variable: For `./data/airbnb_hw.csv`, clean the `Price` variable as well as you can, and explain the choices you make. How many missing values do you end up with? (Hint: What happens to the formatting when a price goes over 999 dollars, say from 675 to 1,112?)\n",
        "2. Categorical variable: For the Minnesota police use of for data, `./data/mn_police_use_of_force.csv`, clean the `subject_injury` variable, handling the NA's; this gives a value `Yes` when a person was injured by police, and `No` when no injury occurred. What proportion of the values are missing? Is this a concern? Cross-tabulate your cleaned `subject_injury` variable with the `force_type` variable. Are there any patterns regarding when the data are missing? \n",
        "3. Dummy variable: For the pretrial data covered in the lecture, clean the `WhetherDefendantWasReleasedPretrial` variable as well as you can, and, in particular, replace missing values with `np.nan`.\n",
        "4. Missing values, not at random: For the pretrial data covered in the lecture, clean the `ImposedSentenceAllChargeInContactEvent` variable as well as you can, and explain the choices you make. (Hint: Look at the `SentenceTypeAllChargesAtConvictionInContactEvent` variable.)"
      ]
    },
    {
      "cell_type": "markdown",
      "id": "5608152a",
      "metadata": {},
      "source": [
        "1. No missing values; when the price goes over $999, it includes a comma. This causes problems when being read as an integer. I just went through and removed the comma and quotes, maintaining the price while removing any possibility of misreading.\n",
        "2. Out of 12925 records in the original dataset, 9848 did not have a value for `subject_injury`. This is absolutely a concern, since that represents the overwhelming majority of the data available and it's possible that what remains is not representative of the overall dataset. The overwhelming majority of incidents without `subject_injury` values involved the use of bodily force, followed by chemical irritants and tasers.\n",
        "4. `ImposedSentenceAllChargeInContactEvent` seems to be numeric data. My best interpretation of it is that it represents the total length of a prison sentence. Therefore, it needs to be coerced to numerical data, with empty spaces replaced by `nan`s."
      ]
    },
    {
      "cell_type": "code",
      "execution_count": 93,
      "id": "027cf6c1",
      "metadata": {},
      "outputs": [
        {
          "name": "stdout",
          "output_type": "stream",
          "text": [
            "subject_injury\n",
            "1.0    1631\n",
            "0.0    1446\n",
            "Name: count, dtype: int64\n",
            "Missing: 9848 (76.2%)\n",
            "force_type          Baton  Bodily Force  Chemical Irritant  Firearm  \\\n",
            "subject_injury_nan                                                    \n",
            "0                       2          2379                172        2   \n",
            "1                       2          7051               1421        0   \n",
            "\n",
            "force_type          Gun Point Display  Improvised Weapon  Less Lethal  \\\n",
            "subject_injury_nan                                                      \n",
            "0                                  77                 74            0   \n",
            "1                                  27                 74           87   \n",
            "\n",
            "force_type          Less Lethal Projectile  Maximal Restraint Technique  \\\n",
            "subject_injury_nan                                                        \n",
            "0                                        3                            0   \n",
            "1                                        0                          170   \n",
            "\n",
            "force_type          Police K9 Bite  Taser  \n",
            "subject_injury_nan                         \n",
            "0                               46    322  \n",
            "1                               31    985  \n",
            "ImposedSentenceAllChargeInContactEvent\n",
            "                    9053\n",
            "0                   4953\n",
            "12                  1404\n",
            ".985626283367556    1051\n",
            "6                    809\n",
            "                    ... \n",
            "11.9055441478439       1\n",
            "35.0061601642711       1\n",
            "46.6242299794661       1\n",
            "81.0225872689938       1\n",
            "202                    1\n",
            "Name: count, Length: 484, dtype: int64\n",
            "ImposedSentenceAllChargeInContactEvent\n",
            "0.000000      4953\n",
            "12.000000     1404\n",
            "0.985626      1051\n",
            "6.000000       809\n",
            "3.000000       787\n",
            "              ... \n",
            "2.197125         1\n",
            "21.164271        1\n",
            "1.657084         1\n",
            "2.299795         1\n",
            "180.985626       1\n",
            "Name: count, Length: 483, dtype: int64\n",
            "SentenceTypeAllChargesAtConvictionInContactEvent\n",
            "4    8779\n",
            "0    8720\n",
            "1    4299\n",
            "2     914\n",
            "9     274\n",
            "Name: count, dtype: int64\n"
          ]
        }
      ],
      "source": [
        "import numpy as np\n",
        "import pandas as pd\n",
        "\n",
        "# For 1.1\n",
        "df = pd.read_csv(\"data/airbnb_hw.csv\")\n",
        "df[\"Price\"] = df[\"Price\"].str.replace(\",\", \"\")\n",
        "df[\"Price\"] = pd.to_numeric(df[\"Price\"], errors=\"coerce\")\n",
        "df.to_csv(\"data/airbnb_hw_cleaned.csv\")\n",
        "\n",
        "# For 1.2\n",
        "df = pd.read_csv(\"data/mn_police_use_of_force.csv\")\n",
        "df[\"subject_injury\"] = pd.to_numeric(df[\"subject_injury\"].replace(\"\",np.nan).replace(\"Yes\", \"1\").replace(\"No\", \"0\"), errors=\"coerce\")\n",
        "df[\"subject_injury_nan\"] = pd.to_numeric(df[\"subject_injury\"].isnull().replace(False, \"0\").replace(True, \"1\"), errors=\"coerce\")\n",
        "print(df[\"subject_injury\"].value_counts())\n",
        "print(\"Missing:\", sum(df[\"subject_injury_nan\"]), f\"({round(100 * sum(df[\"subject_injury_nan\"]) / len(df), 1)}%)\")\n",
        "print(pd.crosstab(df[\"subject_injury_nan\"], df[\"force_type\"]))\n",
        "df.to_csv(\"data/mn_police_use_of_force_cleaned.csv\")\n",
        "\n",
        "# For 1.3\n",
        "df = pd.read_parquet(\"data/justice_data.parquet\")\n",
        "df[\"WhetherDefendantWasReleasedPretrial\"] = df[\"WhetherDefendantWasReleasedPretrial\"].replace([9], np.nan)\n",
        "\n",
        "# For 1.4\n",
        "print(df[\"ImposedSentenceAllChargeInContactEvent\"].value_counts())\n",
        "df[\"ImposedSentenceAllChargeInContactEvent\"] = pd.to_numeric(df[\"ImposedSentenceAllChargeInContactEvent\"].replace([\" \", \"\"], np.nan), errors=\"coerce\")\n",
        "print(df[\"ImposedSentenceAllChargeInContactEvent\"].value_counts())\n",
        "print(df[\"SentenceTypeAllChargesAtConvictionInContactEvent\"].value_counts())\n",
        "df.to_parquet(\"data/justice_data_cleaned.parquet\")"
      ]
    },
    {
      "cell_type": "markdown",
      "id": "5a60a44e",
      "metadata": {},
      "source": [
        "**Q2.** Go to https://sharkattackfile.net/ and download their dataset on shark attacks.\n",
        "\n",
        "1. Open the shark attack file using Pandas. It is probably not a csv file, so `read_csv` won't work.\n",
        "2. Drop any columns that do not contain data.\n",
        "3. Clean the year variable. Describe the range of values you see. Filter the rows to focus on attacks since 1940. Are attacks increasing, decreasing, or remaining constant over time?\n",
        "4. Clean the Age variable and make a histogram of the ages of the victims.\n",
        "5. What proportion of victims are male?\n",
        "6. Clean the `Type` variable so it only takes three values: Provoked and Unprovoked and Unknown. What proportion of attacks are unprovoked?\n",
        "7. Clean the `Fatal Y/N` variable so it only takes three values: Y, N, and Unknown.\n",
        "8. Are sharks more likely to launch unprovoked attacks on men or women? Is the attack more or less likely to be fatal when the attack is provoked or unprovoked? Is it more or less likely to be fatal when the victim is male or female? How do you feel about sharks?\n",
        "9. What proportion of attacks appear to be by white sharks? (Hint: `str.split()` makes a vector of text values into a list of lists, split by spaces.)"
      ]
    },
    {
      "cell_type": "markdown",
      "id": "a5915988",
      "metadata": {},
      "source": [
        "3. Attacks have generally increased over time; they peaked around 1960, hit a low around 1980, then increased steadily before peaking in the mid-2010s and precipitously declining in the 2020s.\n",
        "5. 80.3%\n",
        "6. 73.7%\n",
        "8. Attacks against women are more likely to be unprovoked; the ratio of unprovoked to provoked attacks against women is over 20:1, as opposed to around 8:1 for men. Unprovoked attacks have a higher fatality rate. Attacks against men are more likely to be fatal. I think I will stick to land in the future.\n",
        "9. 10.1%"
      ]
    },
    {
      "cell_type": "code",
      "execution_count": null,
      "id": "169df35e",
      "metadata": {},
      "outputs": [
        {
          "name": "stdout",
          "output_type": "stream",
          "text": [
            "Sex\n",
            "M    5618\n",
            "F     792\n",
            "Name: count, dtype: int64\n",
            "Male: 80.3%\n",
            "Unprovoked: 73.7%\n",
            "Type  Provoked  Unknown  Unprovoked\n",
            "Sex                                \n",
            "F           31       91         670\n",
            "M          548      755        4315\n",
            "Fatal Y/N      N  Unknown     Y\n",
            "Type                           \n",
            "Provoked     611        3    21\n",
            "Unknown      450       11   199\n",
            "Unprovoked  3825       57  1254\n",
            "Fatal Y/N     N  Unknown     Y\n",
            "Sex                           \n",
            "F           603        4   120\n",
            "M          3922       36  1245\n",
            "White sharks: 10.1%\n"
          ]
        },
        {
          "data": {
            "image/png": "[encoded data removed]",
            "text/plain": [
              "<Figure size 640x480 with 1 Axes>"
            ]
          },
          "metadata": {},
          "output_type": "display_data"
        }
      ],
      "source": [
        "import numpy as np\n",
        "import pandas as pd\n",
        "\n",
        "df = pd.read_excel(\"data/GSAF5.xls\")\n",
        "# drop columns\n",
        "df.dropna(axis=1, how=\"all\", inplace=True)\n",
        "# clean year variable\n",
        "df[\"Year\"] = df[\"Year\"].replace(0, np.nan)\n",
        "df_since_1940 = df[(df[\"Year\"] >= 1940)]\n",
        "# df_since_1940[\"Year\"].hist(bins=86)\n",
        "# clean age variable\n",
        "df[\"Age\"] = pd.to_numeric(df[\"Age\"].replace([\" \", \"\\n \", \"?\", \"  \", \"X\"], np.nan).replace(\"2½\", 2.5).replace(\"6½\", 6.5), errors=\"coerce\")\n",
        "df[\"Age\"].hist()\n",
        "# clean sex variable\n",
        "df[\"Sex\"] = df[\"Sex\"].replace([\"N\", \".\"], np.nan).replace([\"lli\", \"M x 2\", \" M\", \"M \"], \"M\")\n",
        "print(df[\"Sex\"].value_counts())\n",
        "print(\"Male:\", f\"{round(100 * len(df[(df[\"Sex\"] == \"M\")]) / len(df), 1)}%\")\n",
        "# clean type variable\n",
        "df[\"Type\"] = df[\"Type\"].replace([\" Provoked\"], \"Provoked\").replace([\"Sea Disaster\", \"\", \"?\", \"Boat\", \"Invalid\", \"Questionable\", \"Sea Disaster\", \"Unconfirmed\", \"Under investigation\", \"Unverified\", \"Watercraft\", np.nan], \"Unknown\")\n",
        "print(\"Unprovoked:\", f\"{round(100 * len(df[(df[\"Type\"] == \"Unprovoked\")]) / len(df), 1)}%\")\n",
        "# clean fatal variable\n",
        "df[\"Fatal Y/N\"] = df[\"Fatal Y/N\"].replace([\"UNKNOWN\"], \"Unknown\").replace([\"F\", \"Y x 2\", \"y\"], \"Y\").replace([\"N \", \"Nq\", 2017, \"M\", \"n\", \" N\"], \"N\")\n",
        "print(pd.crosstab(df[\"Sex\"], df[\"Type\"]))\n",
        "print(pd.crosstab(df[\"Type\"], df[\"Fatal Y/N\"]))\n",
        "print(pd.crosstab(df[\"Sex\"], df[\"Fatal Y/N\"]))\n",
        "# group attacks by type of shark\n",
        "white_sharks = 0\n",
        "for i in df[\"Species \"].str.split():\n",
        "    if type(i) == list and \"white\" in {x.lower() for x in i}:\n",
        "        white_sharks += 1\n",
        "print(\"White sharks:\", f\"{round(100 * white_sharks / len(df), 1)}%\")"
      ]
    },
    {
      "cell_type": "markdown",
      "id": "5735a4d4-8be8-433a-a351-70eb8002e632",
      "metadata": {
        "id": "5735a4d4-8be8-433a-a351-70eb8002e632"
      },
      "source": [
        "**Q3.** Open the \"tidy_data.pdf\" document in the repo, which is a paper called Tidy Data by Hadley Wickham.\n",
        "\n",
        "  1. Read the abstract. What is this paper about?\n",
        "  2. Read the introduction. What is the \"tidy data standard\" intended to accomplish?\n",
        "  3. Read the intro to section 2. What does this sentence mean: \"Like families, tidy datasets are all alike but every messy dataset is messy in its own way.\" What does this sentence mean: \"For a given dataset, it’s usually easy to figure out what are observations and what are variables, but it is surprisingly difficult to precisely define variables and observations in general.\"\n",
        "  4. Read Section 2.2. How does Wickham define values, variables, and observations?\n",
        "  5. How is \"Tidy Data\" defined in section 2.3?\n",
        "  6. Read the intro to Section 3 and Section 3.1. What are the 5 most common problems with messy datasets? Why are the data in Table 4 messy? What is \"melting\" a dataset?\n",
        "  7. Why, specifically, is table 11 messy but table 12 tidy and \"molten\"?\n",
        "  8. Read Section 6. What is the \"chicken-and-egg\" problem with focusing on tidy data? What does Wickham hope happens in the future with further work on the subject of data wrangling?"
      ]
    },
    {
      "cell_type": "markdown",
      "id": "566cd6c4",
      "metadata": {},
      "source": [
        "1. This paper is about data tidying, which is part of the cleaning process and involves structuring datasets in order to easily analyze them.\n",
        "2. It is supposed to make it easier to analyze the data and develop data analysis tools.\n",
        "3. Wickham means that datasets often have different issues making them messy, which poses an obstacle to working with them (since software is unprepared to handle the datasets' issues). In contrast, tidy datasets are all alike, so software that can handle any tidy dataset can handle them all. For the other sentence, Wickham means that it is easy to intuitively identify variables and observations, but they can vary a fair amount between datasets, making it a challenge to generally define them.\n",
        "4. A value is an individual data point (a number or string). A variable is all values that relate to the same attribute. An observation is all values measured on the same thing across attributes.\n",
        "5. Tidy data is a format of data where every variable is a column, every observation is a row, and every type of observational unit is a table.\n",
        "6. The five most common problems are:\n",
        "   1. Column headers are values instead of variable names\n",
        "   2. Multiple variables are stored in the same column\n",
        "   3. Variables are stored in both rows and columns\n",
        "   4. Multiple types of observational units are stored in the same table\n",
        "   5. A single observational unit is split across multiple tables\n",
        "\n",
        "Table 4 is messy because the `income` variable is split across multiple brackets and each bracket is a column. Melting is converting columns into rows; in this example, that means making a single `income` variable and changing each of the income brackets to be a potential value of that variable.\n",
        "1. Table 11 is messy because it splits the variable for date up across a `year` column, `month` column, and 31 columns for the individual day of the month, and stores a variable name in the `element` column. Table 12b, in contrast, coalesces the date into a single column and makes separate `tmax` and `tmin` columns rather than storing the variable in `element`.\n",
        "2. The chicken-and-egg problem is that \"if tidy data is only as useful as the tools that work with it, then tidy tools will inextricably be linked to tidy data\". Wickham hopes that people will build on the tidy data framework to build better data storage strategies and tools."
      ]
    },
    {
      "cell_type": "markdown",
      "id": "649494cd-cfd6-4f80-992a-9994fc19e1d5",
      "metadata": {
        "id": "649494cd-cfd6-4f80-992a-9994fc19e1d5"
      },
      "source": [
        "**Q4.** Many important datasets contain a race variable, typically limited to a handful of values often including Black, White, Asian, Latino, and Indigenous. This question looks at data gathering efforts on this variable by the U.S. Federal government.\n",
        "\n",
        "1. How did the most recent US Census gather data on race?\n",
        "2. Why do we gather these data? What role do these kinds of data play in politics and society? Why does data quality matter?\n",
        "3. Please provide a constructive criticism of how the Census was conducted: What was done well? What do you think was missing? How should future large scale surveys be adjusted to best reflect the diversity of the population? Could some of the Census' good practices be adopted more widely to gather richer and more useful data?\n",
        "4. How did the Census gather data on sex and gender? Please provide a similar constructive criticism of their practices.\n",
        "5. When it comes to cleaning data, what concerns do you have about protected characteristics like sex, gender, sexual identity, or race? What challenges can you imagine arising when there are missing values? What good or bad practices might people adopt, and why?\n",
        "6. Suppose someone invented an algorithm to impute values for protected characteristics like race, gender, sex, or sexuality. What kinds of concerns would you have?"
      ]
    }
  ],
  "metadata": {
    "colab": {
      "provenance": []
    },
    "kernelspec": {
      "display_name": ".venv",
      "language": "python",
      "name": "python3"
    },
    "language_info": {
      "codemirror_mode": {
        "name": "ipython",
        "version": 3
      },
      "file_extension": ".py",
      "mimetype": "text/x-python",
      "name": "python",
      "nbconvert_exporter": "python",
      "pygments_lexer": "ipython3",
      "version": "3.12.7"
    }
  },
  "nbformat": 4,
  "nbformat_minor": 5
}
